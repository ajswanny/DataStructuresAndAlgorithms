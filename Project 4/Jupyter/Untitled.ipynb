{
 "cells": [
  {
   "cell_type": "code",
   "execution_count": 111,
   "metadata": {},
   "outputs": [],
   "source": [
    "import pandas as pd"
   ]
  },
  {
   "cell_type": "code",
   "execution_count": 112,
   "metadata": {},
   "outputs": [],
   "source": [
    "from pprint import pprint"
   ]
  },
  {
   "cell_type": "code",
   "execution_count": 113,
   "metadata": {},
   "outputs": [],
   "source": [
    "import seaborn as sns"
   ]
  },
  {
   "cell_type": "code",
   "execution_count": 114,
   "metadata": {},
   "outputs": [],
   "source": [
    "import matplotlib"
   ]
  },
  {
   "cell_type": "code",
   "execution_count": 115,
   "metadata": {},
   "outputs": [],
   "source": [
    "%matplotlib inline"
   ]
  },
  {
   "cell_type": "code",
   "execution_count": 116,
   "metadata": {},
   "outputs": [],
   "source": [
    "indexes = [100, 200, 300, 400, 500, 600, 700, 800, 900, 1000]\n",
    "indexes1 = pd.Series(indexes)"
   ]
  },
  {
   "cell_type": "code",
   "execution_count": 117,
   "metadata": {},
   "outputs": [
    {
     "name": "stderr",
     "output_type": "stream",
     "text": [
      "/Users/admin/anaconda2/envs/webscrape/lib/python3.6/site-packages/pandas/core/series.py:2890: FutureWarning: from_csv is deprecated. Please use read_csv(...) instead. Note that some of the default arguments are different, so please refer to the documentation for from_csv when changing your function calls\n",
      "  infer_datetime_format=infer_datetime_format)\n"
     ]
    }
   ],
   "source": [
    "bubble_sort = pd.Series.from_csv(\"/Users/admin/Documents/University/2017 - 2018/Spring/CS 124/Projects/Project 4/P4-Program/cmake-build-debug/SortingRWData-Unindexed/TWOSORT_alt_bubble_sort_rw_data.csv\")"
   ]
  },
  {
   "cell_type": "code",
   "execution_count": 118,
   "metadata": {},
   "outputs": [
    {
     "data": {
      "text/plain": [
       "15640     NaN\n",
       "5830      NaN\n",
       "64414     NaN\n",
       "24656     NaN\n",
       "147768    NaN\n",
       "58938     NaN\n",
       "250306    NaN\n",
       "94012     NaN\n",
       "389478    NaN\n",
       "145234    NaN\n",
       "550436    NaN\n",
       "197356    NaN\n",
       "755490    NaN\n",
       "269496    NaN\n",
       "989206    NaN\n",
       "351196    NaN\n",
       "1266146   NaN\n",
       "457178    NaN\n",
       "1562324   NaN\n",
       "567614    NaN\n",
       "dtype: float64"
      ]
     },
     "execution_count": 118,
     "metadata": {},
     "output_type": "execute_result"
    }
   ],
   "source": [
    "bubble_sort"
   ]
  },
  {
   "cell_type": "code",
   "execution_count": 119,
   "metadata": {},
   "outputs": [
    {
     "name": "stdout",
     "output_type": "stream",
     "text": [
      "15640\n",
      "64414\n",
      "147768\n",
      "250306\n",
      "389478\n",
      "550436\n",
      "755490\n",
      "989206\n",
      "1266146\n",
      "1562324\n"
     ]
    }
   ],
   "source": [
    "for item in bubble_sort.iloc[::2].iteritems():\n",
    "    print(item[0])"
   ]
  },
  {
   "cell_type": "code",
   "execution_count": 120,
   "metadata": {},
   "outputs": [
    {
     "name": "stdout",
     "output_type": "stream",
     "text": [
      "5830\n",
      "24656\n",
      "58938\n",
      "94012\n",
      "145234\n",
      "197356\n",
      "269496\n",
      "351196\n",
      "457178\n",
      "567614\n"
     ]
    }
   ],
   "source": [
    "for item in bubble_sort.iloc[1::2].iteritems():\n",
    "    print(item[0])"
   ]
  },
  {
   "cell_type": "code",
   "execution_count": null,
   "metadata": {},
   "outputs": [],
   "source": []
  }
 ],
 "metadata": {
  "kernelspec": {
   "display_name": "Python 3",
   "language": "python",
   "name": "python3"
  },
  "language_info": {
   "codemirror_mode": {
    "name": "ipython",
    "version": 3
   },
   "file_extension": ".py",
   "mimetype": "text/x-python",
   "name": "python",
   "nbconvert_exporter": "python",
   "pygments_lexer": "ipython3",
   "version": "3.6.2"
  }
 },
 "nbformat": 4,
 "nbformat_minor": 2
}
